{
 "cells": [
  {
   "cell_type": "code",
   "execution_count": null,
   "metadata": {},
   "outputs": [],
   "source": [
    "#1.Import required libraries\n",
    "import torch\n",
    "import torchvision\n",
    "from torchvision import transforms\n",
    "from PIL import Image\n",
    "import numpy as np\n",
    "import matplotlib.pyplot as plt"
   ]
  },
  {
   "cell_type": "code",
   "execution_count": null,
   "metadata": {},
   "outputs": [],
   "source": [
    "#2.Load the deep learning model\n",
    "model = torchvision.models.segmentation.deeplabv3_resnet101(pretrained=True)  #https://download.pytorch.org/models/deeplabv3_resnet101_coco-586e9e4e.pth"
   ]
  },
  {
   "cell_type": "code",
   "execution_count": null,
   "metadata": {},
   "outputs": [],
   "source": [
    "#3.Define the preprocessing function\n",
    "def preprocess(image):\n",
    "    transform = transforms.Compose([\n",
    "        transforms.Resize(256),\n",
    "        transforms.CenterCrop(224),\n",
    "        transforms.ToTensor(),\n",
    "        transforms.Normalize(\n",
    "            mean=[0.485, 0.456, 0.406],\n",
    "            std=[0.229, 0.224, 0.225]\n",
    "        )\n",
    "    ])\n",
    "    return transform(image).unsqueeze(0)"
   ]
  },
  {
   "cell_type": "code",
   "execution_count": null,
   "metadata": {},
   "outputs": [],
   "source": [
    "#4.Define the post-processing function to convert the output tensor into an image\n",
    "def postprocess(output):\n",
    "    output = output['out'][0]\n",
    "    output = output.argmax(0)\n",
    "    return output.detach().cpu().numpy()"
   ]
  },
  {
   "cell_type": "code",
   "execution_count": null,
   "metadata": {},
   "outputs": [],
   "source": [
    "#5.Load the test image and make predictions\n",
    "# Load test image\n",
    "image = Image.open('test_image.jpg')\n",
    "\n",
    "# Preprocess\n",
    "input_tensor = preprocess(image)\n",
    "\n",
    "# Model inference\n",
    "with torch.no_grad():\n",
    "    output = model(input_tensor)['out']\n",
    "\n",
    "# Postprocess\n",
    "output = postprocess(output)\n",
    "\n",
    "# Visualize result\n",
    "plt.imshow(output)\n",
    "plt.show()\n",
    "\n",
    "plt.show()"
   ]
  }
 ],
 "metadata": {
  "language_info": {
   "name": "python"
  },
  "orig_nbformat": 4
 },
 "nbformat": 4,
 "nbformat_minor": 2
}
