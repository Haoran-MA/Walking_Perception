{
 "cells": [
  {
   "cell_type": "code",
   "execution_count": null,
   "metadata": {},
   "outputs": [],
   "source": [
    "import pandas as pd\n",
    "\n",
    "\n",
    "df = pd.read_csv('D:/..../file_names.csv')\n",
    "df.head()\n",
    "X = df.iloc[:,3:]  #set independent variable"
   ]
  },
  {
   "cell_type": "code",
   "execution_count": null,
   "metadata": {},
   "outputs": [],
   "source": [
    "import shap\n",
    "import joblib\n",
    "import pandas as pd\n",
    "shap.initjs()  \n",
    "import matplotlib.pyplot as plt\n",
    "\n",
    "explainer = shap.TreeExplainer(gbdt)   #load GBDT model\n",
    "shap_values = explainer.shap_values(X) \n",
    "# summarize the effects of all the features\n",
    "shap.summary_plot(shap_values, X, show = False)\n",
    "#plt.savefig(\"D:/desk/JNU/fig/fascination_feature.jpg\", dpi = 600)"
   ]
  }
 ],
 "metadata": {
  "language_info": {
   "name": "python"
  },
  "orig_nbformat": 4
 },
 "nbformat": 4,
 "nbformat_minor": 2
}
